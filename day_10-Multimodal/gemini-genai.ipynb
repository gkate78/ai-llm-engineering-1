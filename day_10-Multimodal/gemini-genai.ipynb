{
 "cells": [
  {
   "cell_type": "code",
   "execution_count": 13,
   "id": "6e7700a2",
   "metadata": {},
   "outputs": [],
   "source": [
    "import os\n",
    "import getpass\n",
    "\n",
    "os.environ[\"GEMINI_API_KEY\"] = getpass.getpass(\"Gemini API Key:\")"
   ]
  },
  {
   "cell_type": "code",
   "execution_count": 14,
   "id": "5873ca05",
   "metadata": {},
   "outputs": [
    {
     "name": "stdout",
     "output_type": "stream",
     "text": [
      "I will generate an image depicting a chef in a rustic kitchen bathed in warm morning sunlight. The air will be filled with dancing flour dust illuminated by the golden light streaming through old-fashioned windows. The chef's hands will be actively kneading artisanal bread dough on a well-used wooden table, which will also feature scattered fresh herbs and colorful heirloom tomatoes. In the soft-focused background, polished copper pots will subtly gleam. The image will have a shallow depth of field, characteristic of an 85mm lens, with a warm color grading and hyper-realistic details, reflecting a professional food photography style.\n",
      "\n"
     ]
    }
   ],
   "source": [
    "from google import genai\n",
    "from google.genai import types\n",
    "from PIL import Image\n",
    "from io import BytesIO\n",
    "import base64\n",
    "\n",
    "client = genai.Client()\n",
    "\n",
    "contents = ('A chef in a sunlit rustic kitchen, flour dust dancing in golden morning light streaming through vintage windows, hands kneading artisanal bread dough on a worn wooden table scattered with fresh herbs and heirloom tomatoes, copper pots gleaming in background, shot with 85mm lens, shallow depth of field, warm color grading, professional food photography style, hyper-realistic detail --aspect 16:9')\n",
    "\n",
    "response = client.models.generate_content(\n",
    "    model=\"gemini-2.0-flash-preview-image-generation\",\n",
    "    contents=contents,\n",
    "    config=types.GenerateContentConfig(\n",
    "      response_modalities=['TEXT', 'IMAGE']\n",
    "    )\n",
    ")\n",
    "\n",
    "for part in response.candidates[0].content.parts:\n",
    "  if part.text is not None:\n",
    "    print(part.text)\n",
    "  elif part.inline_data is not None:\n",
    "    image = Image.open(BytesIO((part.inline_data.data)))\n",
    "    image.save('images/chef.png')\n",
    "    image.show()"
   ]
  },
  {
   "cell_type": "markdown",
   "id": "e68ad510",
   "metadata": {},
   "source": [
    "<div style=\"background-color: #204B8E; color: white; padding: 10px; border-radius: 5px;\">\n",
    "\n",
    "### Task #1: Adjust the prompt to include face of the chef.\n",
    "\n",
    "### Insights: Share any insights you have learned by playing around with the prompt.\n",
    "</div>"
   ]
  },
  {
   "cell_type": "markdown",
   "id": "776d84af",
   "metadata": {},
   "source": [
    "### Text and Image -> Image"
   ]
  },
  {
   "cell_type": "code",
   "execution_count": 32,
   "id": "7effbf15",
   "metadata": {},
   "outputs": [
    {
     "name": "stdout",
     "output_type": "stream",
     "text": [
      "I will add a regal gold crown adorned with shimmering jewels to your head, transforming your portrait into that of a distinguished king.\n",
      "\n",
      "\n"
     ]
    }
   ],
   "source": [
    "from google import genai\n",
    "from google.genai import types\n",
    "from PIL import Image\n",
    "from io import BytesIO\n",
    "\n",
    "import PIL.Image\n",
    "\n",
    "client = genai.Client()\n",
    "\n",
    "\n",
    "image = PIL.Image.open('images/brad.jpg')\n",
    "\n",
    "# Convert the image to a base64 string\n",
    "buffered = BytesIO()\n",
    "image.save(buffered, format=\"JPEG\")\n",
    "image_base64 = base64.b64encode(buffered.getvalue()).decode('utf-8')\n",
    "\n",
    "\n",
    "text_input = 'This is a picture of me. Make me wear a crown like a king.'\n",
    "\n",
    "content = types.Content(\n",
    "  role=\"user\",\n",
    "  parts=[\n",
    "    types.Part(text=text_input),\n",
    "    types.Part.from_bytes(\n",
    "        mime_type=\"image/jpeg\",\n",
    "        data=base64.b64decode(image_base64)\n",
    "    )\n",
    "  ]\n",
    ")\n",
    "\n",
    "response = client.models.generate_content(\n",
    "    model=\"models/gemini-2.0-flash-preview-image-generation\",\n",
    "    contents=content,\n",
    "    config=types.GenerateContentConfig(\n",
    "      response_modalities=['TEXT', 'IMAGE']\n",
    "    )\n",
    ")\n",
    "\n",
    "for part in response.candidates[0].content.parts:\n",
    "  if part.text is not None:\n",
    "    print(part.text)\n",
    "  elif part.inline_data is not None:\n",
    "    image = Image.open(BytesIO((part.inline_data.data)))\n",
    "    image.save('images/brad_crown.jpg')\n",
    "    image.show()"
   ]
  },
  {
   "cell_type": "code",
   "execution_count": 35,
   "id": "1de2bc0a",
   "metadata": {},
   "outputs": [
    {
     "name": "stdout",
     "output_type": "stream",
     "text": [
      "GenerateContentResponse(\n",
      "  automatic_function_calling_history=[],\n",
      "  candidates=[\n",
      "    Candidate(\n",
      "      content=Content(\n",
      "        parts=[\n",
      "          Part(\n",
      "            text=\"\"\"I will add a regal gold crown adorned with shimmering jewels to your head, transforming your portrait into that of a distinguished king.\n",
      "\n",
      "\"\"\"\n",
      "          ),\n",
      "          Part(\n",
      "            inline_data=Blob(\n",
      "              data=<... Max depth ...>,\n",
      "              mime_type=<... Max depth ...>\n",
      "            )\n",
      "          ),\n",
      "        ],\n",
      "        role='model'\n",
      "      ),\n",
      "      finish_reason=<FinishReason.STOP: 'STOP'>,\n",
      "      index=0\n",
      "    ),\n",
      "  ],\n",
      "  model_version='gemini-2.0-flash-preview-image-generation',\n",
      "  response_id='Tz-paKivEuOIz7IPsenCyAU',\n",
      "  sdk_http_response=HttpResponse(\n",
      "    headers=<dict len=11>\n",
      "  ),\n",
      "  usage_metadata=GenerateContentResponseUsageMetadata(\n",
      "    candidates_token_count=1315,\n",
      "    candidates_tokens_details=[\n",
      "      ModalityTokenCount(\n",
      "        modality=<MediaModality.IMAGE: 'IMAGE'>,\n",
      "        token_count=1290\n",
      "      ),\n",
      "    ],\n",
      "    prompt_token_count=275,\n",
      "    prompt_tokens_details=[\n",
      "      ModalityTokenCount(\n",
      "        modality=<MediaModality.TEXT: 'TEXT'>,\n",
      "        token_count=17\n",
      "      ),\n",
      "      ModalityTokenCount(\n",
      "        modality=<MediaModality.IMAGE: 'IMAGE'>,\n",
      "        token_count=258\n",
      "      ),\n",
      "    ],\n",
      "    total_token_count=1590\n",
      "  )\n",
      ")\n"
     ]
    }
   ],
   "source": [
    "from pprint import pprint\n",
    "\n",
    "pprint(response)"
   ]
  },
  {
   "cell_type": "markdown",
   "id": "03a40e87",
   "metadata": {},
   "source": [
    "<div style=\"background-color: #204B8E; color: white; padding: 10px; border-radius: 5px;\">\n",
    "\n",
    "### Task #1: Analyze the structure of the response. why is it structured this way?\n",
    "\n",
    "### Answer:\n",
    "</div>"
   ]
  },
  {
   "cell_type": "code",
   "execution_count": 25,
   "id": "a5c3ee02",
   "metadata": {},
   "outputs": [
    {
     "name": "stdout",
     "output_type": "stream",
     "text": [
      "The only difference between the two images is that in the second image, **Brad Pitt is wearing a golden crown on his head**, while in the first image, he is not.\n"
     ]
    }
   ],
   "source": [
    "from google import genai\n",
    "from google.genai import types\n",
    "\n",
    "client = genai.Client()\n",
    "\n",
    "# Upload the first image\n",
    "image1_path = \"images/brad.jpg\"\n",
    "uploaded_file = client.files.upload(file=image1_path)\n",
    "\n",
    "# Prepare the second image as inline data\n",
    "image2_path = \"images/brad_crown.jpg\"\n",
    "with open(image2_path, 'rb') as f:\n",
    "    img2_bytes = f.read()\n",
    "\n",
    "# Create the prompt with text and multiple images\n",
    "response = client.models.generate_content(\n",
    "\n",
    "    model=\"gemini-2.5-flash\",\n",
    "    contents=[\n",
    "        \"What is different between these two images?\",\n",
    "        uploaded_file,  # Use the uploaded file reference\n",
    "        types.Part.from_bytes(\n",
    "            data=img2_bytes,\n",
    "            mime_type='image/png'\n",
    "        )\n",
    "    ]\n",
    ")\n",
    "\n",
    "print(response.text)"
   ]
  },
  {
   "cell_type": "markdown",
   "id": "6d5d50af",
   "metadata": {},
   "source": [
    "### Video processing"
   ]
  },
  {
   "cell_type": "code",
   "execution_count": 36,
   "id": "00f4626b",
   "metadata": {},
   "outputs": [],
   "source": [
    "response = client.models.generate_content(\n",
    "    model='models/gemini-2.5-flash',\n",
    "    contents=types.Content(\n",
    "        parts=[\n",
    "            types.Part(\n",
    "                file_data=types.FileData(file_uri='https://www.youtube.com/watch?v=G32jFMsS7ow&t=1s')\n",
    "            ),\n",
    "            types.Part(text='Please summarize the video in 3 sentences.')\n",
    "        ]\n",
    "    )\n",
    ")"
   ]
  },
  {
   "cell_type": "code",
   "execution_count": 37,
   "id": "4f4bac65",
   "metadata": {},
   "outputs": [
    {
     "name": "stdout",
     "output_type": "stream",
     "text": [
      "('Multimodal AI is introduced as the next generation of generative AI, '\n",
      " 'designed to interact using natural human interfaces like voice, vision, and '\n",
      " 'sound, unlike current AI that relies on keyboards. The video contrasts the '\n",
      " 'traditional \"sequential approach,\" which converts audio to text for '\n",
      " 'processing and then back to speech, often leading to delays. Instead, the '\n",
      " '\"multimodal approach\" directly processes various inputs like audio and '\n",
      " 'images into \"embeddings,\" allowing for end-to-end, real-time responses. This '\n",
      " 'direct processing, where AI \"thinks in sound, not words,\" makes multimodal '\n",
      " 'AI blazingly fast but also presents challenges in control, monitoring, and '\n",
      " 'fine-tuning compared to its sequential counterpart.')\n"
     ]
    }
   ],
   "source": [
    "pprint(response.text)"
   ]
  },
  {
   "cell_type": "markdown",
   "id": "bc8de2f1",
   "metadata": {},
   "source": [
    "### Audio processing"
   ]
  },
  {
   "cell_type": "code",
   "execution_count": 49,
   "id": "abc2db09",
   "metadata": {},
   "outputs": [
    {
     "name": "stdout",
     "output_type": "stream",
     "text": [
      "A projectile is any object that is thrown or projected into the air and is only subject to the force of gravity. Projectile motion is the specific type of motion that a projectile undergoes, following a curved path.\n"
     ]
    }
   ],
   "source": [
    "from google.genai import types\n",
    "\n",
    "with open('audio/a_projectile_is.wav', 'rb') as f:\n",
    "    audio_bytes = f.read()\n",
    "\n",
    "response = client.models.generate_content(\n",
    "  model='gemini-2.5-flash',\n",
    "  contents=[\n",
    "    'transcribe',\n",
    "    types.Part.from_bytes(\n",
    "      data=audio_bytes,\n",
    "      mime_type='audio/mp3',\n",
    "    )\n",
    "  ]\n",
    ")\n",
    "\n",
    "print(response.text)"
   ]
  },
  {
   "cell_type": "code",
   "execution_count": 50,
   "id": "da1db529",
   "metadata": {},
   "outputs": [
    {
     "name": "stdout",
     "output_type": "stream",
     "text": [
      "The audio clip features a **clear and articulate male voice** speaking in a calm, informative tone. He is narrating or explaining a concept, specifically defining \"projectile\" and \"projectile motion\" in a manner typical of an educational or documentary setting.\n",
      "\n",
      "Beneath his speech, there is a **subtle, continuous low-frequency hum or drone**. This ambient sound provides a gentle, atmospheric backdrop that is unobtrusive and does not compete with the speaking voice. It sounds somewhat electronic or synthesized, contributing to a thoughtful or slightly serious mood.\n",
      "\n",
      "The speaking voice remains prominent throughout, with the background sound providing a consistent, underlying layer.\n"
     ]
    }
   ],
   "source": [
    "response = client.models.generate_content(\n",
    "  model='gemini-2.5-flash',\n",
    "  contents=[\n",
    "    'describe this audio clip',\n",
    "    types.Part.from_bytes(\n",
    "      data=audio_bytes,\n",
    "      mime_type='audio/mp3',\n",
    "    )\n",
    "  ]\n",
    ")\n",
    "\n",
    "print(response.text)"
   ]
  }
 ],
 "metadata": {
  "kernelspec": {
   "display_name": ".venv",
   "language": "python",
   "name": "python3"
  },
  "language_info": {
   "codemirror_mode": {
    "name": "ipython",
    "version": 3
   },
   "file_extension": ".py",
   "mimetype": "text/x-python",
   "name": "python",
   "nbconvert_exporter": "python",
   "pygments_lexer": "ipython3",
   "version": "3.13.5"
  }
 },
 "nbformat": 4,
 "nbformat_minor": 5
}
