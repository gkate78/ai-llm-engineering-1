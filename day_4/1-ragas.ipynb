{
 "cells": [
  {
   "cell_type": "markdown",
   "metadata": {
    "id": "wa8ykQk92aLX"
   },
   "source": [
    "# Introduction\n",
    "\n",
    "Ragas is a framework that helps you evaluate your Retrieval Augmented Generation (RAG) pipelines. RAG denotes a class of LLM applications that use external data to augment the LLM’s context. \n",
    "\n",
    "Note: This is notebook is a remake from activities provided by AI-Makerspace when I enrolled in Cohort 2 of AI Engineering.\n",
    "\n",
    "# Why Evaluate\n",
    "\n",
    "Because you cannot improve what you cannot measure.\n",
    "\n",
    "Evaluating Retrieval-Augmented Generation (RAG) is crucial because it ensures the accuracy, reliability, and contextual relevance of the generated content by retrieving pertinent information from trusted sources. This evaluation helps identify and mitigate biases, ensuring fairness in the responses. Additionally, it optimizes the model's performance, enhancing efficiency and response times, which in turn builds user trust by consistently delivering high-quality and relevant information. Overall, thorough evaluation of RAG models is essential for refining their capabilities and improving the user experience.\n",
    "\n",
    "# Evaluation of RAG Using Ragas\n",
    "\n",
    "In the following notebook we'll explore how to evaluate RAG pipelines using a powerful open-source tool called \"Ragas\". This will give us tools to evaluate component-wise metrics, as well as end-to-end metrics about the performance of our RAG pipelines.\n",
    "\n",
    "In the following notebook we'll complete the following tasks:\n",
    "\n",
    "  1. Install required libraries\n",
    "  2. Set Environment Variables\n",
    "  3. Creating a simple RAG pipeline with Langchain\n",
    "  4. Synthetic Dataset Generation for Evaluation using the Ragas\n",
    "  5. Evaluating our pipeline with Ragas\n",
    "  6. Making Adjustments to our RAG Pipeline\n",
    "  7. Evaluating our Adjusted pipeline against our baseline\n",
    "  8. Testing OpenAI's Claim\n",
    "\n",
    "The only way to get started is to get started - so let's grab our dependencies for the day!"
   ]
  },
  {
   "cell_type": "markdown",
   "metadata": {
    "id": "0_C2JvG1qO3h"
   },
   "source": [
    "## Task 1: Set Environment Variables\n",
    "\n",
    "Let's set up our OpenAI API key so we can leverage their API later on."
   ]
  },
  {
   "cell_type": "code",
   "execution_count": null,
   "metadata": {
    "colab": {
     "base_uri": "https://localhost:8080/"
    },
    "id": "8Lhqp5rUThG-",
    "outputId": "b29081cd-ea1d-4a1a-d64b-61c052a0d779"
   },
   "outputs": [],
   "source": [
    "import os\n",
    "import openai\n",
    "from getpass import getpass\n",
    "\n",
    "openai.api_key = getpass(\"Please provide your OpenAI Key: \")\n",
    "os.environ[\"OPENAI_API_KEY\"] = openai.api_key"
   ]
  },
  {
   "cell_type": "markdown",
   "metadata": {
    "id": "TFbWNvo3rZ4H"
   },
   "source": [
    "## Task 2: Creating a Simple RAG Pipeline with LangChain\n",
    "\n",
    "We'll be leveraging LangChain and LCEL to build a simple RAG pipeline that we can baseline with Ragas."
   ]
  },
  {
   "cell_type": "markdown",
   "metadata": {
    "id": "DV_BOewX8CW0"
   },
   "source": [
    "## Building our RAG pipeline\n",
    "\n",
    "Let's review the basic steps of RAG again:\n",
    "\n",
    "- Create an Index\n",
    "- Use retrieval to obtain pieces of context from our Index that are similar to our query\n",
    "- Use a LLM to generate responses based on the retrieved context\n",
    "\n",
    "Let's get started by creating our index.\n",
    "\n",
    "> NOTE: We're going to start leaning on the term \"index\" to refer to our `VectorStore`, `VectorDatabase`, etc. We can think of \"index\" as the catch-all term, whereas `VectorStore` and the like relate to the specific technologies used to create, store, and interact with the index."
   ]
  },
  {
   "cell_type": "markdown",
   "metadata": {
    "id": "1VDGJdxCJEVc"
   },
   "source": [
    "### Creating an Index\n",
    "\n",
    "You'll notice that the largest changes (outside of some import changes) are that our old favourite chains are back to being bundled in an easily usable abstraction.\n",
    "\n",
    "We can still create custom chains using LCEL - but we can also be more confident that our pre-packaged chains are creating using LCEL under the hood."
   ]
  },
  {
   "cell_type": "code",
   "execution_count": null,
   "metadata": {
    "id": "DTDNFXaBSO2j"
   },
   "outputs": [],
   "source": [
    "from langchain_community.document_loaders import PyMuPDFLoader\n",
    "\n",
    "loader = PyMuPDFLoader(\n",
    "    \"data/lotr.pdf\",\n",
    ")\n",
    "\n",
    "all_documents = loader.load()"
   ]
  },
  {
   "cell_type": "code",
   "execution_count": null,
   "metadata": {
    "colab": {
     "base_uri": "https://localhost:8080/"
    },
    "id": "i3dJYlBCIX_p",
    "outputId": "ac2c6245-853f-4717-8917-c92b1eaca4ba"
   },
   "outputs": [],
   "source": [
    "all_documents[0].metadata\n"
   ]
  },
  {
   "cell_type": "code",
   "execution_count": null,
   "metadata": {},
   "outputs": [],
   "source": [
    "#limit to BOOK One - Page 21 to 215\n",
    "print('Total pages', len(all_documents))\n",
    "documents = all_documents[21:215]\n",
    "print('# of pages - Book One', len(documents))\n",
    "print('First page', documents[0].page_content)"
   ]
  },
  {
   "cell_type": "markdown",
   "metadata": {
    "id": "oQUl3sbZK4_1"
   },
   "source": [
    "#### Transforming Data\n",
    "\n",
    "Now that we've got our single document - let's split it into smaller pieces so we can more effectively leverage it with our retrieval chain!\n",
    "\n",
    "We'll start with the classic: `RecursiveCharacterTextSplitter`."
   ]
  },
  {
   "cell_type": "code",
   "execution_count": null,
   "metadata": {
    "id": "6Nt2E1xnLNgr"
   },
   "outputs": [],
   "source": [
    "from langchain.text_splitter import RecursiveCharacterTextSplitter\n",
    "\n",
    "text_splitter = RecursiveCharacterTextSplitter(\n",
    "    chunk_size = 500,\n",
    "    chunk_overlap = 50\n",
    ")\n",
    "\n",
    "chunks = text_splitter.split_documents(documents)"
   ]
  },
  {
   "cell_type": "markdown",
   "metadata": {
    "id": "ilzwQxhiLcVV"
   },
   "source": [
    "Let's confirm we've split our document."
   ]
  },
  {
   "cell_type": "code",
   "execution_count": null,
   "metadata": {},
   "outputs": [],
   "source": [
    "chunks[300].page_content"
   ]
  },
  {
   "cell_type": "code",
   "execution_count": null,
   "metadata": {},
   "outputs": [],
   "source": [
    "print(len(chunks))"
   ]
  },
  {
   "cell_type": "markdown",
   "metadata": {},
   "source": [
    "<div style=\"background-color: #204B8E; color: white; padding: 10px; border-radius: 5px;\">\n",
    "\n",
    "#### ❓ Question #1:\n",
    "\n",
    "How many chunks were generated?\n",
    "\n",
    "</div>\n"
   ]
  },
  {
   "cell_type": "markdown",
   "metadata": {},
   "source": [
    "<div style=\"background-color: #204B8E; color: white; padding: 10px; border-radius: 5px;\">\n",
    "\n",
    "### Answer :\n",
    "\n",
    "* There are 1121 chunks generated.\n",
    "</span>\n"
   ]
  },
  {
   "cell_type": "markdown",
   "metadata": {
    "id": "eZ93HkYcMJwW"
   },
   "source": [
    "#### Loading OpenAI Embeddings Model\n",
    "\n",
    "We'll need a process by which we can convert our text into vectors that allow us to compare to our query vector.\n",
    "\n",
    "Let's use OpenAI's `text-embedding-ada-002` for this task!"
   ]
  },
  {
   "cell_type": "code",
   "execution_count": null,
   "metadata": {
    "id": "JU6CrDVZMgKe"
   },
   "outputs": [],
   "source": [
    "from langchain_openai import OpenAIEmbeddings\n",
    "\n",
    "embeddings = OpenAIEmbeddings(\n",
    "    model=\"text-embedding-ada-002\"\n",
    ")"
   ]
  },
  {
   "cell_type": "markdown",
   "metadata": {
    "id": "rVtZR9JPLtR4"
   },
   "source": [
    "#### Creating a QDrant VectorStore\n",
    "\n",
    "Now that we have documents - we'll need a place to store them alongside their embeddings."
   ]
  },
  {
   "cell_type": "code",
   "execution_count": null,
   "metadata": {
    "id": "978TWiCtMA0B"
   },
   "outputs": [],
   "source": [
    "from langchain_community.vectorstores import Qdrant\n",
    "\n",
    "qdrant_vector_store = Qdrant.from_documents(\n",
    "    chunks,\n",
    "    embeddings,\n",
    "    location=\":memory:\",\n",
    "    collection_name=\"LOTR\",\n",
    ")"
   ]
  },
  {
   "cell_type": "markdown",
   "metadata": {
    "id": "Z7ht6bJX9PAY"
   },
   "source": [
    "#### Creating a Retriever\n",
    "\n",
    "To complete our index, all that's left to do is expose our vectorstore as a retriever - which we can do the same way we would in previous version of LangChain!"
   ]
  },
  {
   "cell_type": "code",
   "execution_count": null,
   "metadata": {
    "id": "xne8P5dQTUiR"
   },
   "outputs": [],
   "source": [
    "retriever = qdrant_vector_store.as_retriever()"
   ]
  },
  {
   "cell_type": "markdown",
   "metadata": {
    "id": "sO_DFBVKNvNm"
   },
   "source": [
    "#### Testing our Retriever\n",
    "\n",
    "Now that we've gone through the trouble of creating our retriever - let's see it in action!"
   ]
  },
  {
   "cell_type": "code",
   "execution_count": null,
   "metadata": {
    "id": "I9_ONxpnN0n6"
   },
   "outputs": [],
   "source": [
    "retrieved_documents = retriever.invoke(\"Who is the bearer of the ring?\")\n",
    "for doc in retrieved_documents:\n",
    "  print(doc.page_content)\n",
    "  print('')"
   ]
  },
  {
   "cell_type": "markdown",
   "metadata": {
    "id": "D8MKsT6JTgCU"
   },
   "source": [
    "### Creating a RAG Chain\n",
    "\n",
    "Now that we have the \"R\" in RAG taken care of - let's look at creating the \"AG\"!"
   ]
  },
  {
   "cell_type": "markdown",
   "metadata": {
    "id": "zs7qBLaEQEic"
   },
   "source": [
    "#### Creating a Prompt Template\n",
    "\n",
    "There are a few different ways we could create our prompt template - we could create a custom template, as seen in the code below, or we could simply pull a prompt from the prompt hub! Let's look at an example of that!"
   ]
  },
  {
   "cell_type": "code",
   "execution_count": null,
   "metadata": {},
   "outputs": [],
   "source": [
    "!pip install -U -q langchainhub ipywidgets nest_asyncio\n"
   ]
  },
  {
   "cell_type": "code",
   "execution_count": null,
   "metadata": {
    "id": "eRCq_OKUQbKk"
   },
   "outputs": [],
   "source": [
    "from langchain import hub\n",
    "\n",
    "retrieval_qa_prompt = hub.pull(\"langchain-ai/retrieval-qa-chat\")"
   ]
  },
  {
   "cell_type": "code",
   "execution_count": null,
   "metadata": {
    "colab": {
     "base_uri": "https://localhost:8080/"
    },
    "id": "FziTftV5Q1H-",
    "outputId": "29059829-820d-4127-a8ef-9224f2758a26"
   },
   "outputs": [],
   "source": [
    "print(retrieval_qa_prompt.messages[0].prompt.template)"
   ]
  },
  {
   "cell_type": "markdown",
   "metadata": {
    "id": "iyq88IPFRGoT"
   },
   "source": [
    "As you can see - the prompt template is simple (and has a small error) - so we'll create our own to be a bit more specific!"
   ]
  },
  {
   "cell_type": "code",
   "execution_count": null,
   "metadata": {
    "id": "ijSNkTAjTsep"
   },
   "outputs": [],
   "source": [
    "from langchain.prompts import ChatPromptTemplate\n",
    "\n",
    "template = \"\"\"Answer the question based only on the following context. If you cannot answer the question with the context, please respond with 'I don't know':\n",
    "\n",
    "Context:\n",
    "{context}\n",
    "\n",
    "Question:\n",
    "{question}\n",
    "\"\"\"\n",
    "\n",
    "prompt = ChatPromptTemplate.from_template(template)"
   ]
  },
  {
   "cell_type": "markdown",
   "metadata": {
    "id": "BYHnPaXl-cvJ"
   },
   "source": [
    "#### Setting Up our Basic QA Chain\n",
    "\n",
    "Now we can instantiate our basic RAG chain!\n",
    "\n",
    "We'll use LCEL directly just to see an example of it - but you could just as easily use an abstraction here to achieve the same goal!\n",
    "\n",
    "We'll also ensure to pass-through our context - which is critical for RAGAS."
   ]
  },
  {
   "cell_type": "code",
   "execution_count": null,
   "metadata": {
    "id": "-TsjUWjbUfbW"
   },
   "outputs": [],
   "source": [
    "from operator import itemgetter\n",
    "\n",
    "from langchain_openai import ChatOpenAI\n",
    "from langchain_core.output_parsers import StrOutputParser\n",
    "from langchain_core.runnables import RunnablePassthrough\n",
    "\n",
    "primary_qa_llm = ChatOpenAI(model_name=\"gpt-3.5-turbo\", temperature=0)\n",
    "\n",
    "retrieval_augmented_qa_chain = (\n",
    "    # INVOKE CHAIN WITH: {\"question\" : \"<<SOME USER QUESTION>>\"}\n",
    "    # \"question\" : populated by getting the value of the \"question\" key\n",
    "    # \"context\"  : populated by getting the value of the \"question\" key and chaining it into the base_retriever\n",
    "    {\"context\": itemgetter(\"question\") | retriever, \"question\": itemgetter(\"question\")}\n",
    "    # \"context\"  : is assigned to a RunnablePassthrough object (will not be called or considered in the next step)\n",
    "    #              by getting the value of the \"context\" key from the previous step\n",
    "    | RunnablePassthrough.assign(context=itemgetter(\"context\"))\n",
    "    # \"response\" : the \"context\" and \"question\" values are used to format our prompt object and then piped\n",
    "    #              into the LLM and stored in a key called \"response\"\n",
    "    # \"context\"  : populated by getting the value of the \"context\" key from the previous step\n",
    "    | {\"response\": prompt | primary_qa_llm, \"context\": itemgetter(\"context\")}\n",
    ")"
   ]
  },
  {
   "cell_type": "markdown",
   "metadata": {
    "id": "zO69de-F-oMD"
   },
   "source": [
    "Let's test it out!"
   ]
  },
  {
   "cell_type": "code",
   "execution_count": null,
   "metadata": {
    "colab": {
     "base_uri": "https://localhost:8080/"
    },
    "id": "2FS5NxC6UyU2",
    "outputId": "bd91337c-dfeb-47b3-f66f-4b60a7bb1673"
   },
   "outputs": [],
   "source": [
    "question = \"Who is the bearer of the ring?\"\n",
    "\n",
    "result = retrieval_augmented_qa_chain.invoke({\"question\" : question})\n",
    "\n",
    "print(result[\"response\"].content)"
   ]
  },
  {
   "cell_type": "code",
   "execution_count": null,
   "metadata": {
    "colab": {
     "base_uri": "https://localhost:8080/"
    },
    "id": "tIuHVGPOO9P2",
    "outputId": "e5fb4abe-be4a-4a5e-cc68-486de3cb72c8"
   },
   "outputs": [],
   "source": [
    "question = \"Who is the eventual bearer of the ring?\"\n",
    "\n",
    "result = retrieval_augmented_qa_chain.invoke({\"question\" : question})\n",
    "\n",
    "print(result[\"response\"].content)"
   ]
  },
  {
   "cell_type": "markdown",
   "metadata": {
    "id": "a-XYZueEP42k"
   },
   "source": [
    "We can already see that there are some improvements we could make here.\n",
    "\n",
    "For now, let's switch gears to RAGAS to see how we can leverage that tool to provide us insight into how our pipeline is performing!"
   ]
  },
  {
   "cell_type": "markdown",
   "metadata": {
    "id": "EOECHyzHRqDw"
   },
   "source": [
    "## Task 4: Evaluation using Ragas\n",
    "\n",
    "Ragas is a powerful library that lets us evaluate our RAG pipeline by collecting input/output/context triplets and obtaining metrics relating to a number of different aspects of our RAG pipeline.\n",
    "\n",
    "We'll be evaluating on every core metric today, but in order to do that - we'll need to create a test set. Luckily for us, Ragas can do that directly!"
   ]
  },
  {
   "cell_type": "code",
   "execution_count": null,
   "metadata": {},
   "outputs": [],
   "source": [
    "# load the CSV - lotr_testset.csv\n",
    "import pandas as pd\n",
    "import nest_asyncio\n",
    "\n",
    "nest_asyncio.apply()\n",
    "test_df = pd.read_csv('data/lotr_testset.csv')"
   ]
  },
  {
   "cell_type": "markdown",
   "metadata": {
    "id": "MemL406rUzBu"
   },
   "source": [
    "Let's look at the output and see what we can learn about it!"
   ]
  },
  {
   "cell_type": "code",
   "execution_count": null,
   "metadata": {
    "colab": {
     "base_uri": "https://localhost:8080/"
    },
    "id": "RaCDdImVU15s",
    "outputId": "82abe7e2-4dc1-4ed1-b3c2-ab689909d406"
   },
   "outputs": [],
   "source": [
    "test_df"
   ]
  },
  {
   "cell_type": "markdown",
   "metadata": {
    "id": "vrPsVwUAWFWB"
   },
   "source": [
    "### Generating Responses with RAG Pipeline\n",
    "\n",
    "Now that we have some QC pairs, and some ground truths, let's evaluate our RAG pipeline using Ragas.\n",
    "\n",
    "The process is, again, quite straightforward - thanks to Ragas and LangChain!\n",
    "\n",
    "Let's start by extracting our questions and ground truths from our create testset.\n",
    "\n",
    "We can start by converting our test dataset into a Pandas DataFrame."
   ]
  },
  {
   "cell_type": "code",
   "execution_count": null,
   "metadata": {
    "id": "xAiXbVmLYSoC"
   },
   "outputs": [],
   "source": [
    "test_questions = test_df[\"question\"].values.tolist()\n",
    "test_groundtruths = test_df[\"ground_truth\"].values.tolist()"
   ]
  },
  {
   "cell_type": "markdown",
   "metadata": {
    "id": "aE5rfMLfbqKH"
   },
   "source": [
    "Now we'll generate responses using our RAG pipeline using the questions we've generated - we'll also need to collect our retrieved contexts for each question.\n",
    "\n",
    "We'll do this in a simple loop to see exactly what's happening!"
   ]
  },
  {
   "cell_type": "code",
   "execution_count": null,
   "metadata": {
    "id": "9_AayvT1dAQN"
   },
   "outputs": [],
   "source": [
    "answers = []\n",
    "contexts = []\n",
    "\n",
    "for question in test_questions:\n",
    "  response = retrieval_augmented_qa_chain.invoke({\"question\" : question})\n",
    "  answers.append(response[\"response\"].content)\n",
    "  contexts.append([context.page_content for context in response[\"context\"]])"
   ]
  },
  {
   "cell_type": "markdown",
   "metadata": {
    "id": "opHaHmYDeBfC"
   },
   "source": [
    "Now we can wrap our information in a Hugging Face dataset for use in the Ragas library."
   ]
  },
  {
   "cell_type": "code",
   "execution_count": null,
   "metadata": {},
   "outputs": [],
   "source": [
    "!pip install datasets"
   ]
  },
  {
   "cell_type": "code",
   "execution_count": null,
   "metadata": {
    "id": "fY48YZITeHy-"
   },
   "outputs": [],
   "source": [
    "from datasets import Dataset\n",
    "\n",
    "response_dataset = Dataset.from_dict({\n",
    "    \"question\" : test_questions,\n",
    "    \"answer\" : answers,\n",
    "    \"contexts\" : contexts,\n",
    "    \"ground_truth\" : test_groundtruths\n",
    "})"
   ]
  },
  {
   "cell_type": "markdown",
   "metadata": {
    "id": "mmeVvQaZeogE"
   },
   "source": [
    "Let's take a peek and see what that looks like!"
   ]
  },
  {
   "cell_type": "code",
   "execution_count": null,
   "metadata": {
    "colab": {
     "base_uri": "https://localhost:8080/"
    },
    "id": "pOpydvc8eqNM",
    "outputId": "857ea0c8-4d59-47b4-e995-bfe78d6c9352"
   },
   "outputs": [],
   "source": [
    "response_dataset[0]"
   ]
  },
  {
   "cell_type": "markdown",
   "metadata": {
    "id": "xbsFm5FievJI"
   },
   "source": [
    "## Task 2: Evaluating our Pipeline with Ragas\n",
    "\n",
    "Now that we have our response dataset - we can finally get into the \"meat\" of Ragas - evaluation!\n",
    "\n",
    "First, we'll import the desired metrics, then we can use them to evaluate our created dataset!\n",
    "\n",
    "Check out the specific metrics we'll be using in the Ragas documentation:\n",
    "\n",
    "- [Faithfulness](https://docs.ragas.io/en/stable/concepts/metrics/faithfulness.html)\n",
    "- [Answer Relevancy](https://docs.ragas.io/en/stable/concepts/metrics/answer_relevance.html)\n",
    "- [Context Precision](https://docs.ragas.io/en/stable/concepts/metrics/context_precision.html)\n",
    "- [Context Recall](https://docs.ragas.io/en/stable/concepts/metrics/context_recall.html)\n",
    "- [Answer Correctness](https://docs.ragas.io/en/stable/concepts/metrics/answer_correctness.html)\n",
    "\n",
    "See the accompanied presentation for more in-depth explanations about each of the metrics!"
   ]
  },
  {
   "cell_type": "code",
   "execution_count": null,
   "metadata": {},
   "outputs": [],
   "source": [
    "!pip install ragas"
   ]
  },
  {
   "cell_type": "code",
   "execution_count": null,
   "metadata": {
    "id": "R2PXwyt8e5aW"
   },
   "outputs": [],
   "source": [
    "from ragas import evaluate\n",
    "from ragas.metrics import (\n",
    "    faithfulness,\n",
    "    answer_relevancy,\n",
    "    answer_correctness,\n",
    "    context_recall,\n",
    "    context_precision,\n",
    ")\n",
    "\n",
    "metrics = [\n",
    "    faithfulness,\n",
    "    answer_relevancy,\n",
    "    context_recall,\n",
    "    context_precision,\n",
    "    answer_correctness,\n",
    "]"
   ]
  },
  {
   "cell_type": "markdown",
   "metadata": {
    "id": "Kx-vlsx_hrtV"
   },
   "source": [
    "All that's left to do is call \"evaluate\" and away we go!"
   ]
  },
  {
   "cell_type": "code",
   "execution_count": null,
   "metadata": {
    "colab": {
     "base_uri": "https://localhost:8080/",
     "height": 118,
     "referenced_widgets": [
      "b08fe3ad33c74e13b80fe481fbbd0558",
      "e31321a9028b4cf99652a849cadbd87e",
      "07049044307946aeb86d2a48a48abbb8",
      "27360866d0f2483abcb08a014b2bf791",
      "23da939d19ab41fcbdf80efd237e6f06",
      "592c79ab0b3c48a3bf8b9690ed36bbbf",
      "a7db7f141e8145bc833d6378589c44fa",
      "b80fac1b810e415789a10175fb11b0bc",
      "48034a3fc19847edb7da8e11ee75774c",
      "25ffe3654bcd4610b60e97a08a66f377",
      "b17bca7181154a8ab0387fc37a2d4536"
     ]
    },
    "id": "DhlcfJ4lgYVI",
    "outputId": "0e3b7c06-fa9f-46f7-fe5a-64b15995fa38"
   },
   "outputs": [],
   "source": [
    "import nest_asyncio\n",
    "\n",
    "nest_asyncio.apply()\n",
    "results = evaluate(response_dataset, metrics)"
   ]
  },
  {
   "cell_type": "code",
   "execution_count": null,
   "metadata": {
    "colab": {
     "base_uri": "https://localhost:8080/"
    },
    "id": "UqPArpSrgwDD",
    "outputId": "70d6269a-1bad-4aad-fd2a-b0d5ccd82163"
   },
   "outputs": [],
   "source": [
    "results"
   ]
  },
  {
   "cell_type": "code",
   "execution_count": null,
   "metadata": {
    "colab": {
     "base_uri": "https://localhost:8080/",
     "height": 1000
    },
    "id": "2nsGzj8DhP9E",
    "outputId": "b5a5d00f-2bc7-475b-a774-c0e7ee000b82"
   },
   "outputs": [],
   "source": [
    "results_df = results.to_pandas()\n",
    "results_df"
   ]
  },
  {
   "cell_type": "markdown",
   "metadata": {
    "id": "MWfiu_pLh3JL"
   },
   "source": [
    "## Task 3: Making Adjustments to our RAG Pipeline\n",
    "\n",
    "Now that we have established a baseline - we can see how any changes impact our pipeline's performance!\n",
    "\n",
    "Let's modify our retriever and see how that impacts our Ragas metrics!\n",
    "\n",
    "> NOTE: MultiQueryRetriever is expanded on [here](https://python.langchain.com/docs/modules/data_connection/retrievers/MultiQueryRetriever) but for now, the implementation is not important to our lesson!"
   ]
  },
  {
   "cell_type": "code",
   "execution_count": null,
   "metadata": {
    "id": "nKIuM336isBL"
   },
   "outputs": [],
   "source": [
    "from langchain.retrievers import MultiQueryRetriever\n",
    "\n",
    "advanced_retriever = MultiQueryRetriever.from_llm(retriever=retriever, llm=primary_qa_llm)"
   ]
  },
  {
   "cell_type": "markdown",
   "metadata": {
    "id": "82rcj3L-i_c8"
   },
   "source": [
    "We'll also re-create our RAG pipeline using the abstractions that come packaged with LangChain v0.1.0!\n",
    "\n",
    "First, let's create a chain to \"stuff\" our documents into our context!"
   ]
  },
  {
   "cell_type": "code",
   "execution_count": null,
   "metadata": {
    "id": "EfdCgTw7jC4i"
   },
   "outputs": [],
   "source": [
    "from langchain.chains.combine_documents import create_stuff_documents_chain\n",
    "\n",
    "document_chain = create_stuff_documents_chain(primary_qa_llm, retrieval_qa_prompt)"
   ]
  },
  {
   "cell_type": "markdown",
   "metadata": {
    "id": "ozYl5WdPnvLu"
   },
   "source": [
    "Next, we'll create the retrieval chain!"
   ]
  },
  {
   "cell_type": "code",
   "execution_count": null,
   "metadata": {
    "id": "9AK7wHVnn0U3"
   },
   "outputs": [],
   "source": [
    "from langchain.chains import create_retrieval_chain\n",
    "\n",
    "retrieval_chain = create_retrieval_chain(advanced_retriever, document_chain)"
   ]
  },
  {
   "cell_type": "code",
   "execution_count": null,
   "metadata": {
    "id": "cmKORMfMoCjL"
   },
   "outputs": [],
   "source": [
    "response = retrieval_chain.invoke({\"input\": \"Who is the bearer of the ring?\"})"
   ]
  },
  {
   "cell_type": "code",
   "execution_count": null,
   "metadata": {
    "colab": {
     "base_uri": "https://localhost:8080/"
    },
    "id": "ICMsUWbWoOpf",
    "outputId": "f98fd6de-56ae-4a50-a5f6-f0bd6bbbb3dd"
   },
   "outputs": [],
   "source": [
    "print(response[\"answer\"])"
   ]
  },
  {
   "cell_type": "code",
   "execution_count": null,
   "metadata": {
    "id": "5s8ZGasYoVi6"
   },
   "outputs": [],
   "source": [
    "response = retrieval_chain.invoke({\"input\": \"Who are the friends of Frodo?\"})"
   ]
  },
  {
   "cell_type": "code",
   "execution_count": null,
   "metadata": {
    "colab": {
     "base_uri": "https://localhost:8080/"
    },
    "id": "ADNCdW4hoYT8",
    "outputId": "743dcf32-1fab-4f6a-d99c-6b32665ced71"
   },
   "outputs": [],
   "source": [
    "print(response[\"answer\"])"
   ]
  },
  {
   "cell_type": "markdown",
   "metadata": {},
   "source": [
    "<div style=\"background-color: #204B8E; color: white; padding: 10px; border-radius: 5px;\">\n",
    "\n",
    "#### 🏗️ Question #3:\n",
    "\n",
    "What does Multiquery Retriever do? Why did model respond better this time?\n",
    "\n",
    "</div>"
   ]
  },
  {
   "cell_type": "markdown",
   "metadata": {},
   "source": [
    "<div style=\"background-color: #204B8E; color: white; padding: 10px; border-radius: 5px;\">\n",
    "\n",
    "### Answer :\n",
    "\n",
    "* MultiQuery Retriever helps the system “think of different ways to ask” your question, finds more relevant information, and gives the LLM a better foundation to generate its response—resulting in improved answer quality.\n",
    "</span>"
   ]
  },
  {
   "cell_type": "markdown",
   "metadata": {
    "id": "OxkU0HdpoaiE"
   },
   "source": [
    "Well, just from those responses this chain *feels* better - but lets see how it performs on our eval!\n",
    "\n",
    "Let's do the same process we did before to collect our pipeline's contexts and answers."
   ]
  },
  {
   "cell_type": "code",
   "execution_count": null,
   "metadata": {
    "id": "kO8cWxn2oinT"
   },
   "outputs": [],
   "source": [
    "answers = []\n",
    "contexts = []\n",
    "\n",
    "for question in test_questions:\n",
    "  response = retrieval_chain.invoke({\"input\" : question})\n",
    "  answers.append(response[\"answer\"])\n",
    "  contexts.append([context.page_content for context in response[\"context\"]])"
   ]
  },
  {
   "cell_type": "markdown",
   "metadata": {
    "id": "tgagfhPUtM2j"
   },
   "source": [
    "Now we can convert this into a dataset, just like we did before."
   ]
  },
  {
   "cell_type": "code",
   "execution_count": null,
   "metadata": {
    "id": "5FcllGeSovP8"
   },
   "outputs": [],
   "source": [
    "response_dataset_advanced_retrieval = Dataset.from_dict({\n",
    "    \"question\" : test_questions,\n",
    "    \"answer\" : answers,\n",
    "    \"contexts\" : contexts,\n",
    "    \"ground_truth\" : test_groundtruths\n",
    "})"
   ]
  },
  {
   "cell_type": "markdown",
   "metadata": {
    "id": "dELYabwktR2C"
   },
   "source": [
    "Let's evaluate on the same metrics we did for the first pipeline and see how it does!"
   ]
  },
  {
   "cell_type": "code",
   "execution_count": null,
   "metadata": {
    "colab": {
     "base_uri": "https://localhost:8080/",
     "height": 49,
     "referenced_widgets": [
      "1979939c0b724700b91036413a201394",
      "13a6eac487424a6e8cba55fe80ab14b0",
      "5bfedf7db9f74de6acf4257dad1ab8fe",
      "6b332b97af494a609bd91cabef779e25",
      "b1a56f3ff2fc41d6b8fbcfe7cba6a767",
      "657bd409f8e74cbab4919ccfafb61b9a",
      "19ea7a76caca4e90b7a4250344c2b7aa",
      "9c59d4f3a89443f0b372af4243378a17",
      "3dd02b027e91427b9dd025f822550f22",
      "9a1589c2328144038a70d2f1ed936434",
      "978040aaab77415699ebd3f3ab43b7e5"
     ]
    },
    "id": "d7uHseWJo2TU",
    "outputId": "2a1672fc-a729-4abe-a87b-8ee5ea45a9be"
   },
   "outputs": [],
   "source": [
    "advanced_retrieval_results = evaluate(response_dataset_advanced_retrieval, metrics)"
   ]
  },
  {
   "cell_type": "code",
   "execution_count": null,
   "metadata": {
    "colab": {
     "base_uri": "https://localhost:8080/",
     "height": 1000
    },
    "id": "JsFd0uDd2n5E",
    "outputId": "10ae8d83-7cef-42ed-e0e6-0725ef2fcad4"
   },
   "outputs": [],
   "source": [
    "advanced_retrieval_results_df = advanced_retrieval_results.to_pandas()\n",
    "advanced_retrieval_results_df"
   ]
  },
  {
   "cell_type": "markdown",
   "metadata": {
    "id": "J0hzqq5VtZ2a"
   },
   "source": [
    "## Task 4: Evaluating our Adjusted Pipeline Against Our Baseline\n",
    "\n",
    "Now we can compare our results and see what directional changes occured!\n",
    "\n",
    "Let's refresh with our initial metrics."
   ]
  },
  {
   "cell_type": "code",
   "execution_count": null,
   "metadata": {
    "colab": {
     "base_uri": "https://localhost:8080/"
    },
    "id": "_WWGRaF5qx3V",
    "outputId": "23e476d6-dc67-40ad-d20a-2f4ea5dcd012"
   },
   "outputs": [],
   "source": [
    "results"
   ]
  },
  {
   "cell_type": "markdown",
   "metadata": {
    "id": "oFv_yAeotmFs"
   },
   "source": [
    "And see how our advanced retrieval modified our chain!"
   ]
  },
  {
   "cell_type": "code",
   "execution_count": null,
   "metadata": {
    "colab": {
     "base_uri": "https://localhost:8080/"
    },
    "id": "rpV11dxJo7xa",
    "outputId": "409ba84e-9fac-4670-ee84-57a578c73539"
   },
   "outputs": [],
   "source": [
    "advanced_retrieval_results"
   ]
  },
  {
   "cell_type": "markdown",
   "metadata": {},
   "source": [
    "<div style=\"background-color: #204B8E; color: white; padding: 10px; border-radius: 5px;\">\n",
    "\n",
    "#### 🏗️ Question #4:\n",
    "\n",
    "Compare the difference between the standard RAG with Multiquery Retriever?\n",
    "\n",
    "</div>"
   ]
  },
  {
   "cell_type": "markdown",
   "metadata": {},
   "source": [
    "<div style=\"background-color: #204B8E; color: white; padding: 10px; border-radius: 5px;\">\n",
    "\n",
    "### Answers :\n",
    "\n",
    "* Standard RAG is simple and works well for straightforward queries while MultiQuery Retriever RAG is more robust, especially for complex, ambiguous, or variably-phrased information, leading to better retrieval and answer quality.\n",
    "</span>"
   ]
  },
  {
   "cell_type": "code",
   "execution_count": null,
   "metadata": {},
   "outputs": [],
   "source": []
  }
 ],
 "metadata": {
  "colab": {
   "provenance": []
  },
  "kernelspec": {
   "display_name": "Python 3 (ipykernel)",
   "language": "python",
   "name": "python3"
  },
  "language_info": {
   "codemirror_mode": {
    "name": "ipython",
    "version": 3
   },
   "file_extension": ".py",
   "mimetype": "text/x-python",
   "name": "python",
   "nbconvert_exporter": "python",
   "pygments_lexer": "ipython3",
   "version": "3.13.5"
  }
 },
 "nbformat": 4,
 "nbformat_minor": 4
}
